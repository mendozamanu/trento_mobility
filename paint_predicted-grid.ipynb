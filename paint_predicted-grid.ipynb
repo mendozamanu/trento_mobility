{
 "cells": [
  {
   "cell_type": "code",
   "execution_count": 28,
   "id": "d2755cd9",
   "metadata": {},
   "outputs": [],
   "source": [
    "import geojson\n",
    "import pandas as pd\n",
    "\n",
    "import matplotlib.colors as colors"
   ]
  },
  {
   "cell_type": "code",
   "execution_count": 29,
   "id": "39137149",
   "metadata": {},
   "outputs": [],
   "source": [
    "#data = pd.read_csv('./clustering/clusters3kmed_manh_fg.csv')\n",
    "#data = pd.read_csv('./csv/predicted_ci_rf_15x15.csv')\n",
    "data2 = pd.read_csv('./csv/pred_fullgrid_trento_callout_rf50_19.csv')\n",
    "data = pd.read_csv('./csv/predicted_smsin_knn10cid_19x19.csv')\n",
    "#data = pd.read_csv('./csv/pred_fullgrid_trento_smso_knn_manh_18x18.csv')\n",
    "#data = pd.read_csv('./csv/pred_fullgrid_trento_ci_rf_15x15.csv')\n",
    "#data = pd.read_csv('./csv/pred_fullgrid_trento_ci_rf_15x15.csv')\n",
    "\n",
    "with open(\"./geojsons/trentino-grid.geojson\") as json_file:\n",
    "    json_data = geojson.load(json_file)\n"
   ]
  },
  {
   "cell_type": "code",
   "execution_count": 30,
   "id": "3a1b0baf",
   "metadata": {},
   "outputs": [],
   "source": [
    "cellid_to_index2 = {feature.properties['cellId']: index for index, feature in enumerate(json_data.features)}"
   ]
  },
  {
   "cell_type": "code",
   "execution_count": 31,
   "id": "cab00ed2",
   "metadata": {},
   "outputs": [],
   "source": [
    "# Create a mapping of cellid to feature index\n",
    "cellid_to_index = {feature.properties['cellId']: index for index, feature in enumerate(json_data.features)}"
   ]
  },
  {
   "cell_type": "code",
   "execution_count": 32,
   "id": "617af263",
   "metadata": {},
   "outputs": [
    {
     "data": {
      "text/plain": [
       "6575"
      ]
     },
     "execution_count": 32,
     "metadata": {},
     "output_type": "execute_result"
    }
   ],
   "source": [
    "len(cellid_to_index)"
   ]
  },
  {
   "cell_type": "code",
   "execution_count": 33,
   "id": "65ca0e33",
   "metadata": {},
   "outputs": [
    {
     "data": {
      "text/plain": [
       "241"
      ]
     },
     "execution_count": 33,
     "metadata": {},
     "output_type": "execute_result"
    }
   ],
   "source": [
    "len(data)"
   ]
  },
  {
   "cell_type": "code",
   "execution_count": 34,
   "id": "8ac30848",
   "metadata": {},
   "outputs": [],
   "source": [
    "for i in range(0, len(data2)):\n",
    "    cellid = int(data2.loc[i].cellid)\n",
    "    if cellid in cellid_to_index2:\n",
    "        feature_index = cellid_to_index2[cellid]\n",
    "        json_data.features[feature_index].properties = {\n",
    "                    \"fill\": colors.to_hex([ 0.9,0.9, 0.9, 0.15 ], keep_alpha = False),\n",
    "                    \"fill-opacity\": 0.1,\n",
    "                    \"stroke\": colors.to_hex([ 0.9,0.9, 0.9, 0.15 ], keep_alpha = False),\n",
    "                    \"stroke-width\": 0.31,\n",
    "                    \"stroke-opacity\": 0.75,\n",
    "                    #\"cell-type\": \"work\",\n",
    "                    \"cellId\": int(data2.loc[i].cellid)\n",
    "            }"
   ]
  },
  {
   "cell_type": "code",
   "execution_count": 35,
   "id": "60086471",
   "metadata": {},
   "outputs": [],
   "source": [
    "for i in range(0, len(data)):\n",
    "    cellid = int(data.loc[i].cellid)\n",
    "    if cellid in cellid_to_index:\n",
    "        feature_index = cellid_to_index[cellid]\n",
    "        if(data.loc[i].predicted == 0): #work\n",
    "            json_data.features[feature_index].properties = {\n",
    "                    \"fill\": colors.to_hex([ 0.9, 0.9, 0.0, 0.25 ], keep_alpha = False),\n",
    "                    \"fill-opacity\": 0.2,\n",
    "                    \"stroke\": colors.to_hex([ 0.9,0.9, 0.9, 0.35 ], keep_alpha = False),\n",
    "                    \"stroke-width\": 0.6,\n",
    "                    \"stroke-opacity\": 0.9,\n",
    "                    \"cell-type\": \"work\",\n",
    "                    \"cellId\": int(data.loc[i].cellid)\n",
    "            }\n",
    "        elif(data.loc[i].predicted == 1): #home\n",
    "            json_data.features[feature_index].properties = {\n",
    "                    \"fill\": colors.to_hex([ 0.1, 0.1, 0.9, 0.65 ], keep_alpha = False),\n",
    "                    \"fill-opacity\": 0.3,\n",
    "                    \"stroke\": colors.to_hex([ 0.9,0.9, 0.9, 0.35 ], keep_alpha = False),\n",
    "                    \"stroke-width\": 0.6,\n",
    "                    \"stroke-opacity\": 0.9,\n",
    "                    \"cell-type\": \"home\",\n",
    "                    \"cellId\": int(data.loc[i].cellid)\n",
    "            }\n",
    "        else: #predicted 2 - #forest\n",
    "            json_data.features[feature_index].properties = {\n",
    "                    \"fill\": colors.to_hex([ 0.9, 0.0, 0.0, 0.85 ], keep_alpha = False),\n",
    "                    \"fill-opacity\": 0.4,\n",
    "                    \"stroke\": colors.to_hex([ 0.9, 0.9, 0.9, 0.35 ], keep_alpha = False),\n",
    "                    \"stroke-width\": 0.6,\n",
    "                    \"stroke-opacity\": 0.9,\n",
    "                    \"cell-type\": \"forest\",\n",
    "                    \"cellId\": int(data.loc[i].cellid)\n",
    "            }\n"
   ]
  },
  {
   "cell_type": "code",
   "execution_count": 36,
   "id": "0c509bb8",
   "metadata": {},
   "outputs": [],
   "source": [
    "with open(\"./geojsons/predicted_smsin_knn10cid_19x19.geojson\", \"w\") as json_file:\n",
    "    geojson.dump(json_data, json_file)"
   ]
  }
 ],
 "metadata": {
  "kernelspec": {
   "display_name": "Python 3",
   "language": "python",
   "name": "python3"
  },
  "language_info": {
   "codemirror_mode": {
    "name": "ipython",
    "version": 3
   },
   "file_extension": ".py",
   "mimetype": "text/x-python",
   "name": "python",
   "nbconvert_exporter": "python",
   "pygments_lexer": "ipython3",
   "version": "3.11.10"
  }
 },
 "nbformat": 4,
 "nbformat_minor": 5
}
