{
 "cells": [
  {
   "cell_type": "code",
   "execution_count": 1,
   "id": "f3d2a49f",
   "metadata": {},
   "outputs": [],
   "source": [
    "import pandas as pd\n",
    "#import numpy as np\n",
    "import researchpy as rp\n",
    "#import scipy.stats as stats"
   ]
  },
  {
   "cell_type": "code",
   "execution_count": 2,
   "id": "67525a1e",
   "metadata": {},
   "outputs": [],
   "source": [
    "#20x20 svm study\n",
    "df_callin_poly = pd.read_csv(\"../ttest/svm_callin.csv\", sep=\";\", decimal=\".\", header=None)\n",
    "df_smsin_linear = pd.read_csv(\"../ttest/svm_smsin.csv\", sep=\";\", decimal=\".\", header=None)\n",
    "df_smsout_poly = pd.read_csv(\"../ttest/svm_smsout.csv\", sep=\";\", decimal=\".\", header=None)\n",
    "df_internet_poly = pd.read_csv(\"../ttest/svm_internet.csv\", sep=\";\", decimal=\".\", header=None)\n"
   ]
  },
  {
   "cell_type": "code",
   "execution_count": 3,
   "id": "269b16d5",
   "metadata": {
    "scrolled": false
   },
   "outputs": [],
   "source": [
    "svm_si_l = df_smsin_linear.iloc[:, 0]\n",
    "svm_so_p = df_smsout_poly.iloc[:, 0]\n",
    "svm_in_p = df_internet_poly.iloc[:, 0]\n",
    "svm_ci_p = df_callin_poly.iloc[:, 0]"
   ]
  },
  {
   "cell_type": "code",
   "execution_count": 4,
   "id": "a299b2e0",
   "metadata": {},
   "outputs": [
    {
     "data": {
      "text/plain": [
       "0    0.440000\n",
       "1    0.458333\n",
       "2    0.500000\n",
       "3    0.583333\n",
       "4    0.500000\n",
       "5    0.500000\n",
       "6    0.500000\n",
       "7    0.500000\n",
       "8    0.458333\n",
       "9    0.500000\n",
       "Name: 0, dtype: float64"
      ]
     },
     "execution_count": 4,
     "metadata": {},
     "output_type": "execute_result"
    }
   ],
   "source": [
    "svm_ci_p"
   ]
  },
  {
   "cell_type": "code",
   "execution_count": 5,
   "id": "5bcc6c8e",
   "metadata": {
    "scrolled": true
   },
   "outputs": [
    {
     "name": "stderr",
     "output_type": "stream",
     "text": [
      "/opt/homebrew/lib/python3.11/site-packages/researchpy/ttest.py:301: FutureWarning: Setting an item of incompatible dtype is deprecated and will raise an error in a future version of pandas. Value 'svm_si_l' has dtype incompatible with float64, please explicitly cast to a compatible dtype first.\n",
      "  table.iloc[0,0] = group1_name\n",
      "/opt/homebrew/lib/python3.11/site-packages/researchpy/ttest.py:460: FutureWarning: Setting an item of incompatible dtype is deprecated and will raise an error in a future version of pandas. Value 'Difference (svm_si_l - svm_so_p) = ' has dtype incompatible with float64, please explicitly cast to a compatible dtype first.\n",
      "  table2.iloc[0,0] = f\"Difference ({group1_name} - {group2_name}) = \"\n"
     ]
    },
    {
     "data": {
      "text/plain": [
       "(   Variable     N      Mean        SD        SE  95% Conf.  Interval\n",
       " 0  svm_si_l  10.0  0.489667  0.017652  0.005582   0.477039  0.502294\n",
       " 1  svm_so_p  10.0  0.489667  0.017652  0.005582   0.477039  0.502294\n",
       " 2  combined  20.0  0.489667  0.017182  0.003842   0.481625  0.497708,\n",
       "                     Independent t-test  results\n",
       " 0  Difference (svm_si_l - svm_so_p) =       0.0\n",
       " 1                Degrees of freedom =      18.0\n",
       " 2                                 t =       0.0\n",
       " 3             Two side test p value =       1.0\n",
       " 4            Difference < 0 p value =       0.5\n",
       " 5            Difference > 0 p value =       0.5\n",
       " 6                         Cohen's d =       0.0\n",
       " 7                         Hedge's g =       0.0\n",
       " 8                    Glass's delta1 =       0.0\n",
       " 9                  Point-Biserial r =       0.0)"
      ]
     },
     "execution_count": 5,
     "metadata": {},
     "output_type": "execute_result"
    }
   ],
   "source": [
    "#SMSIN\n",
    "rp.ttest(group1=svm_si_l ,group1_name=\"svm_si_l\", group2=svm_so_p, group2_name=\"svm_so_p\")"
   ]
  },
  {
   "cell_type": "code",
   "execution_count": 6,
   "id": "7fe50fdc",
   "metadata": {},
   "outputs": [
    {
     "name": "stderr",
     "output_type": "stream",
     "text": [
      "/opt/homebrew/lib/python3.11/site-packages/researchpy/ttest.py:301: FutureWarning: Setting an item of incompatible dtype is deprecated and will raise an error in a future version of pandas. Value 'svm_so_p' has dtype incompatible with float64, please explicitly cast to a compatible dtype first.\n",
      "  table.iloc[0,0] = group1_name\n",
      "/opt/homebrew/lib/python3.11/site-packages/researchpy/ttest.py:460: FutureWarning: Setting an item of incompatible dtype is deprecated and will raise an error in a future version of pandas. Value 'Difference (svm_so_p - svm_ci_p) = ' has dtype incompatible with float64, please explicitly cast to a compatible dtype first.\n",
      "  table2.iloc[0,0] = f\"Difference ({group1_name} - {group2_name}) = \"\n"
     ]
    },
    {
     "data": {
      "text/plain": [
       "(   Variable     N      Mean        SD        SE  95% Conf.  Interval\n",
       " 0  svm_so_p  10.0  0.489667  0.017652  0.005582   0.477039  0.502294\n",
       " 1  svm_ci_p  10.0  0.494000  0.038954  0.012318   0.466134  0.521866\n",
       " 2  combined  20.0  0.491833  0.029518  0.006600   0.478018  0.505648,\n",
       "                     Independent t-test  results\n",
       " 0  Difference (svm_so_p - svm_ci_p) =   -0.0043\n",
       " 1                Degrees of freedom =   18.0000\n",
       " 2                                 t =   -0.3204\n",
       " 3             Two side test p value =    0.7523\n",
       " 4            Difference < 0 p value =    0.3762\n",
       " 5            Difference > 0 p value =    0.6238\n",
       " 6                         Cohen's d =   -0.1433\n",
       " 7                         Hedge's g =   -0.1372\n",
       " 8                    Glass's delta1 =   -0.2455\n",
       " 9                  Point-Biserial r =   -0.0753)"
      ]
     },
     "execution_count": 6,
     "metadata": {},
     "output_type": "execute_result"
    }
   ],
   "source": [
    "#SMSOUT\n",
    "rp.ttest(group1=svm_so_p ,group1_name=\"svm_so_p\", group2=svm_ci_p, group2_name=\"svm_ci_p\")"
   ]
  },
  {
   "cell_type": "code",
   "execution_count": 7,
   "id": "1608709a",
   "metadata": {},
   "outputs": [
    {
     "name": "stderr",
     "output_type": "stream",
     "text": [
      "/opt/homebrew/lib/python3.11/site-packages/researchpy/ttest.py:301: FutureWarning: Setting an item of incompatible dtype is deprecated and will raise an error in a future version of pandas. Value 'svm_so_p' has dtype incompatible with float64, please explicitly cast to a compatible dtype first.\n",
      "  table.iloc[0,0] = group1_name\n",
      "/opt/homebrew/lib/python3.11/site-packages/researchpy/ttest.py:460: FutureWarning: Setting an item of incompatible dtype is deprecated and will raise an error in a future version of pandas. Value 'Difference (svm_so_p - svm_ci_p) = ' has dtype incompatible with float64, please explicitly cast to a compatible dtype first.\n",
      "  table2.iloc[0,0] = f\"Difference ({group1_name} - {group2_name}) = \"\n"
     ]
    },
    {
     "data": {
      "text/plain": [
       "(   Variable     N      Mean        SD        SE  95% Conf.  Interval\n",
       " 0  svm_so_p  10.0  0.489667  0.017652  0.005582   0.477039  0.502294\n",
       " 1  svm_ci_p  10.0  0.498167  0.041792  0.013216   0.468270  0.528063\n",
       " 2  combined  20.0  0.493917  0.031527  0.007050   0.479162  0.508672,\n",
       "                     Independent t-test  results\n",
       " 0  Difference (svm_so_p - svm_ci_p) =   -0.0085\n",
       " 1                Degrees of freedom =   18.0000\n",
       " 2                                 t =   -0.5925\n",
       " 3             Two side test p value =    0.5609\n",
       " 4            Difference < 0 p value =    0.2804\n",
       " 5            Difference > 0 p value =    0.7196\n",
       " 6                         Cohen's d =   -0.2650\n",
       " 7                         Hedge's g =   -0.2538\n",
       " 8                    Glass's delta1 =   -0.4815\n",
       " 9                  Point-Biserial r =   -0.1383)"
      ]
     },
     "execution_count": 7,
     "metadata": {},
     "output_type": "execute_result"
    }
   ],
   "source": [
    "#SMSOUT\n",
    "rp.ttest(group1=svm_so_p ,group1_name=\"svm_so_p\", group2=svm_in_p, group2_name=\"svm_ci_p\")\n"
   ]
  },
  {
   "cell_type": "code",
   "execution_count": 8,
   "id": "edcc7c5b",
   "metadata": {},
   "outputs": [],
   "source": [
    "#20x20 knn study\n",
    "df_smsin_knn_ci = pd.read_csv(\"../ttest/knn_ci_smsin.csv\", sep=\";\", decimal=\".\", header=None)\n",
    "df_smsout_knn_ci = pd.read_csv(\"../ttest/knn_ci_smsout.csv\", sep=\";\", decimal=\".\", header=None)\n",
    "df_smsout_knn_manh = pd.read_csv(\"../ttest/knn_manh_smsout.csv\", sep=\";\", decimal=\".\", header=None)\n",
    "df_internet_knn_ci = pd.read_csv(\"../ttest/knn_ci_internet.csv\", sep=\";\", decimal=\".\", header=None)\n",
    "df_internet_knn_manh = pd.read_csv(\"../ttest/knn_manh_internet.csv\", sep=\";\", decimal=\".\", header=None)\n"
   ]
  },
  {
   "cell_type": "code",
   "execution_count": 9,
   "id": "c4f1723d",
   "metadata": {},
   "outputs": [],
   "source": [
    "knn_si_ci = df_smsin_knn_ci.iloc[:, 0]\n",
    "knn_so_ci = df_smsout_knn_ci.iloc[:, 0]\n",
    "knn_so_manh = df_smsout_knn_manh.iloc[:, 0]\n",
    "knn_in_ci = df_internet_knn_ci.iloc[:, 0]\n",
    "knn_in_manh = df_internet_knn_manh.iloc[:, 0]"
   ]
  },
  {
   "cell_type": "code",
   "execution_count": 10,
   "id": "84127729",
   "metadata": {
    "scrolled": true
   },
   "outputs": [
    {
     "name": "stderr",
     "output_type": "stream",
     "text": [
      "/opt/homebrew/lib/python3.11/site-packages/researchpy/ttest.py:301: FutureWarning: Setting an item of incompatible dtype is deprecated and will raise an error in a future version of pandas. Value 'knn_si_ci' has dtype incompatible with float64, please explicitly cast to a compatible dtype first.\n",
      "  table.iloc[0,0] = group1_name\n",
      "/opt/homebrew/lib/python3.11/site-packages/researchpy/ttest.py:460: FutureWarning: Setting an item of incompatible dtype is deprecated and will raise an error in a future version of pandas. Value 'Difference (knn_si_ci - knn_so_ci) = ' has dtype incompatible with float64, please explicitly cast to a compatible dtype first.\n",
      "  table2.iloc[0,0] = f\"Difference ({group1_name} - {group2_name}) = \"\n"
     ]
    },
    {
     "data": {
      "text/plain": [
       "(    Variable     N      Mean        SD        SE  95% Conf.  Interval\n",
       " 0  knn_si_ci  10.0  0.593167  0.078926  0.024959   0.536707  0.649627\n",
       " 1  knn_so_ci  10.0  0.576333  0.069583  0.022004   0.526556  0.626110\n",
       " 2   combined  20.0  0.584750  0.072930  0.016308   0.550618  0.618882,\n",
       "                       Independent t-test  results\n",
       " 0  Difference (knn_si_ci - knn_so_ci) =    0.0168\n",
       " 1                  Degrees of freedom =   18.0000\n",
       " 2                                   t =    0.5059\n",
       " 3               Two side test p value =    0.6191\n",
       " 4              Difference < 0 p value =    0.6905\n",
       " 5              Difference > 0 p value =    0.3095\n",
       " 6                           Cohen's d =    0.2263\n",
       " 7                           Hedge's g =    0.2167\n",
       " 8                      Glass's delta1 =    0.2133\n",
       " 9                    Point-Biserial r =    0.1184)"
      ]
     },
     "execution_count": 10,
     "metadata": {},
     "output_type": "execute_result"
    }
   ],
   "source": [
    "#CALLIN\n",
    "rp.ttest(group1=knn_si_ci ,group1_name=\"knn_si_ci\", group2=knn_so_ci, group2_name=\"knn_so_ci\")"
   ]
  },
  {
   "cell_type": "code",
   "execution_count": 11,
   "id": "f6af4961",
   "metadata": {
    "scrolled": true
   },
   "outputs": [
    {
     "name": "stderr",
     "output_type": "stream",
     "text": [
      "/opt/homebrew/lib/python3.11/site-packages/researchpy/ttest.py:301: FutureWarning: Setting an item of incompatible dtype is deprecated and will raise an error in a future version of pandas. Value 'knn_si_ci' has dtype incompatible with float64, please explicitly cast to a compatible dtype first.\n",
      "  table.iloc[0,0] = group1_name\n",
      "/opt/homebrew/lib/python3.11/site-packages/researchpy/ttest.py:460: FutureWarning: Setting an item of incompatible dtype is deprecated and will raise an error in a future version of pandas. Value 'Difference (knn_si_ci - knn_so_manh) = ' has dtype incompatible with float64, please explicitly cast to a compatible dtype first.\n",
      "  table2.iloc[0,0] = f\"Difference ({group1_name} - {group2_name}) = \"\n"
     ]
    },
    {
     "data": {
      "text/plain": [
       "(      Variable     N      Mean        SD        SE  95% Conf.  Interval\n",
       " 0    knn_si_ci  10.0  0.593167  0.078926  0.024959   0.536707  0.649627\n",
       " 1  knn_so_manh  10.0  0.576667  0.058768  0.018584   0.534626  0.618707\n",
       " 2     combined  20.0  0.584917  0.068252  0.015262   0.552974  0.616860,\n",
       "                         Independent t-test  results\n",
       " 0  Difference (knn_si_ci - knn_so_manh) =    0.0165\n",
       " 1                    Degrees of freedom =   18.0000\n",
       " 2                                     t =    0.5303\n",
       " 3                 Two side test p value =    0.6024\n",
       " 4                Difference < 0 p value =    0.6988\n",
       " 5                Difference > 0 p value =    0.3012\n",
       " 6                             Cohen's d =    0.2371\n",
       " 7                             Hedge's g =    0.2271\n",
       " 8                        Glass's delta1 =    0.2091\n",
       " 9                      Point-Biserial r =    0.1240)"
      ]
     },
     "execution_count": 11,
     "metadata": {},
     "output_type": "execute_result"
    }
   ],
   "source": [
    "#CALLOUT\n",
    "rp.ttest(group1=knn_si_ci ,group1_name=\"knn_si_ci\", group2=knn_so_manh, group2_name=\"knn_so_manh\")"
   ]
  },
  {
   "cell_type": "code",
   "execution_count": 12,
   "id": "7c978014",
   "metadata": {},
   "outputs": [
    {
     "name": "stderr",
     "output_type": "stream",
     "text": [
      "/opt/homebrew/lib/python3.11/site-packages/researchpy/ttest.py:301: FutureWarning: Setting an item of incompatible dtype is deprecated and will raise an error in a future version of pandas. Value 'knn_si_ci' has dtype incompatible with float64, please explicitly cast to a compatible dtype first.\n",
      "  table.iloc[0,0] = group1_name\n",
      "/opt/homebrew/lib/python3.11/site-packages/researchpy/ttest.py:460: FutureWarning: Setting an item of incompatible dtype is deprecated and will raise an error in a future version of pandas. Value 'Difference (knn_si_ci - knn_in_cid) = ' has dtype incompatible with float64, please explicitly cast to a compatible dtype first.\n",
      "  table2.iloc[0,0] = f\"Difference ({group1_name} - {group2_name}) = \"\n"
     ]
    },
    {
     "data": {
      "text/plain": [
       "(     Variable     N      Mean        SD        SE  95% Conf.  Interval\n",
       " 0   knn_si_ci  10.0  0.593167  0.078926  0.024959   0.536707  0.649627\n",
       " 1  knn_in_cid  10.0  0.560333  0.084783  0.026811   0.499683  0.620983\n",
       " 2    combined  20.0  0.576750  0.081482  0.018220   0.538615  0.614885,\n",
       "                        Independent t-test  results\n",
       " 0  Difference (knn_si_ci - knn_in_cid) =    0.0328\n",
       " 1                   Degrees of freedom =   18.0000\n",
       " 2                                    t =    0.8964\n",
       " 3                Two side test p value =    0.3819\n",
       " 4               Difference < 0 p value =    0.8091\n",
       " 5               Difference > 0 p value =    0.1909\n",
       " 6                            Cohen's d =    0.4009\n",
       " 7                            Hedge's g =    0.3839\n",
       " 8                       Glass's delta1 =    0.4160\n",
       " 9                     Point-Biserial r =    0.2067)"
      ]
     },
     "execution_count": 12,
     "metadata": {},
     "output_type": "execute_result"
    }
   ],
   "source": [
    "rp.ttest(group1=knn_si_ci ,group1_name=\"knn_si_ci\", group2=knn_in_ci, group2_name=\"knn_in_cid\")"
   ]
  },
  {
   "cell_type": "code",
   "execution_count": 13,
   "id": "76fec50e",
   "metadata": {},
   "outputs": [
    {
     "name": "stderr",
     "output_type": "stream",
     "text": [
      "/opt/homebrew/lib/python3.11/site-packages/researchpy/ttest.py:301: FutureWarning: Setting an item of incompatible dtype is deprecated and will raise an error in a future version of pandas. Value 'knn_si_ci' has dtype incompatible with float64, please explicitly cast to a compatible dtype first.\n",
      "  table.iloc[0,0] = group1_name\n",
      "/opt/homebrew/lib/python3.11/site-packages/researchpy/ttest.py:460: FutureWarning: Setting an item of incompatible dtype is deprecated and will raise an error in a future version of pandas. Value 'Difference (knn_si_ci - knn_in_manh) = ' has dtype incompatible with float64, please explicitly cast to a compatible dtype first.\n",
      "  table2.iloc[0,0] = f\"Difference ({group1_name} - {group2_name}) = \"\n"
     ]
    },
    {
     "data": {
      "text/plain": [
       "(      Variable     N      Mean        SD        SE  95% Conf.  Interval\n",
       " 0    knn_si_ci  10.0  0.593167  0.078926  0.024959   0.536707  0.649627\n",
       " 1  knn_in_manh  10.0  0.556000  0.092139  0.029137   0.490088  0.621912\n",
       " 2     combined  20.0  0.574583  0.085648  0.019152   0.534499  0.614668,\n",
       "                         Independent t-test  results\n",
       " 0  Difference (knn_si_ci - knn_in_manh) =    0.0372\n",
       " 1                    Degrees of freedom =   18.0000\n",
       " 2                                     t =    0.9688\n",
       " 3                 Two side test p value =    0.3455\n",
       " 4                Difference < 0 p value =    0.8272\n",
       " 5                Difference > 0 p value =    0.1728\n",
       " 6                             Cohen's d =    0.4332\n",
       " 7                             Hedge's g =    0.4149\n",
       " 8                        Glass's delta1 =    0.4709\n",
       " 9                      Point-Biserial r =    0.2226)"
      ]
     },
     "execution_count": 13,
     "metadata": {},
     "output_type": "execute_result"
    }
   ],
   "source": [
    "rp.ttest(group1=knn_si_ci ,group1_name=\"knn_si_ci\", group2=knn_in_manh, group2_name=\"knn_in_manh\")"
   ]
  },
  {
   "cell_type": "code",
   "execution_count": 14,
   "id": "73df57e9",
   "metadata": {},
   "outputs": [],
   "source": [
    "#RF ttest\n",
    "df_smsin_rf200 = pd.read_csv(\"../ttest/rf_200_smsin.csv\", sep=\";\", decimal=\".\", header=None)\n",
    "df_smsin_rf500 = pd.read_csv(\"../ttest/rf_500_smsin.csv\", sep=\";\", decimal=\".\", header=None)\n",
    "df_callin_rf500 = pd.read_csv(\"../ttest/rf_500_callin.csv\", sep=\";\", decimal=\".\", header=None)\n",
    "df_callout_rf750 = pd.read_csv(\"../ttest/rf_750_callout.csv\", sep=\";\", decimal=\".\", header=None)\n"
   ]
  },
  {
   "cell_type": "code",
   "execution_count": 15,
   "id": "73265a63",
   "metadata": {},
   "outputs": [],
   "source": [
    "rf200_si = df_smsin_rf200.iloc[:, 0]\n",
    "rf500_si = df_smsin_rf500.iloc[:, 0]\n",
    "rf500_ci = df_callin_rf500.iloc[:, 0]\n",
    "rf750_co = df_callout_rf750.iloc[:, 0]"
   ]
  },
  {
   "cell_type": "code",
   "execution_count": 16,
   "id": "e80f8c8f",
   "metadata": {},
   "outputs": [
    {
     "name": "stderr",
     "output_type": "stream",
     "text": [
      "/opt/homebrew/lib/python3.11/site-packages/researchpy/ttest.py:301: FutureWarning: Setting an item of incompatible dtype is deprecated and will raise an error in a future version of pandas. Value 'rf500_ci' has dtype incompatible with float64, please explicitly cast to a compatible dtype first.\n",
      "  table.iloc[0,0] = group1_name\n",
      "/opt/homebrew/lib/python3.11/site-packages/researchpy/ttest.py:460: FutureWarning: Setting an item of incompatible dtype is deprecated and will raise an error in a future version of pandas. Value 'Difference (rf500_ci - rf500_si) = ' has dtype incompatible with float64, please explicitly cast to a compatible dtype first.\n",
      "  table2.iloc[0,0] = f\"Difference ({group1_name} - {group2_name}) = \"\n"
     ]
    },
    {
     "data": {
      "text/plain": [
       "(   Variable     N      Mean        SD        SE  95% Conf.  Interval\n",
       " 0  rf500_ci  10.0  0.647000  0.115713  0.036592   0.564224  0.729776\n",
       " 1  rf500_si  10.0  0.605833  0.081276  0.025702   0.547692  0.663974\n",
       " 2  combined  20.0  0.626417  0.099586  0.022268   0.579809  0.673024,\n",
       "                     Independent t-test  results\n",
       " 0  Difference (rf500_ci - rf500_si) =    0.0412\n",
       " 1                Degrees of freedom =   18.0000\n",
       " 2                                 t =    0.9206\n",
       " 3             Two side test p value =    0.3694\n",
       " 4            Difference < 0 p value =    0.8153\n",
       " 5            Difference > 0 p value =    0.1847\n",
       " 6                         Cohen's d =    0.4117\n",
       " 7                         Hedge's g =    0.3943\n",
       " 8                    Glass's delta1 =    0.3558\n",
       " 9                  Point-Biserial r =    0.2121)"
      ]
     },
     "execution_count": 16,
     "metadata": {},
     "output_type": "execute_result"
    }
   ],
   "source": [
    "rp.ttest(group1=rf500_ci ,group1_name=\"rf500_ci\", group2=rf500_si, group2_name=\"rf500_si\")"
   ]
  },
  {
   "cell_type": "code",
   "execution_count": 17,
   "id": "8358ec6c",
   "metadata": {},
   "outputs": [
    {
     "name": "stderr",
     "output_type": "stream",
     "text": [
      "/opt/homebrew/lib/python3.11/site-packages/researchpy/ttest.py:301: FutureWarning: Setting an item of incompatible dtype is deprecated and will raise an error in a future version of pandas. Value 'rf500_ci' has dtype incompatible with float64, please explicitly cast to a compatible dtype first.\n",
      "  table.iloc[0,0] = group1_name\n",
      "/opt/homebrew/lib/python3.11/site-packages/researchpy/ttest.py:460: FutureWarning: Setting an item of incompatible dtype is deprecated and will raise an error in a future version of pandas. Value 'Difference (rf500_ci - rf750_co) = ' has dtype incompatible with float64, please explicitly cast to a compatible dtype first.\n",
      "  table2.iloc[0,0] = f\"Difference ({group1_name} - {group2_name}) = \"\n"
     ]
    },
    {
     "data": {
      "text/plain": [
       "(   Variable     N      Mean        SD        SE  95% Conf.  Interval\n",
       " 0  rf500_ci  10.0  0.647000  0.115713  0.036592   0.564224  0.729776\n",
       " 1  rf750_co  10.0  0.597333  0.106430  0.033656   0.521198  0.673468\n",
       " 2  combined  20.0  0.622167  0.111162  0.024857   0.570141  0.674192,\n",
       "                     Independent t-test  results\n",
       " 0  Difference (rf500_ci - rf750_co) =    0.0497\n",
       " 1                Degrees of freedom =   18.0000\n",
       " 2                                 t =    0.9990\n",
       " 3             Two side test p value =    0.3310\n",
       " 4            Difference < 0 p value =    0.8345\n",
       " 5            Difference > 0 p value =    0.1655\n",
       " 6                         Cohen's d =    0.4468\n",
       " 7                         Hedge's g =    0.4279\n",
       " 8                    Glass's delta1 =    0.4292\n",
       " 9                  Point-Biserial r =    0.2292)"
      ]
     },
     "execution_count": 17,
     "metadata": {},
     "output_type": "execute_result"
    }
   ],
   "source": [
    "rp.ttest(group1=rf500_ci ,group1_name=\"rf500_ci\", group2=rf750_co, group2_name=\"rf750_co\")"
   ]
  },
  {
   "cell_type": "code",
   "execution_count": 18,
   "id": "b4a977ab",
   "metadata": {},
   "outputs": [
    {
     "name": "stderr",
     "output_type": "stream",
     "text": [
      "/opt/homebrew/lib/python3.11/site-packages/researchpy/ttest.py:301: FutureWarning: Setting an item of incompatible dtype is deprecated and will raise an error in a future version of pandas. Value 'rf500_ci' has dtype incompatible with float64, please explicitly cast to a compatible dtype first.\n",
      "  table.iloc[0,0] = group1_name\n",
      "/opt/homebrew/lib/python3.11/site-packages/researchpy/ttest.py:460: FutureWarning: Setting an item of incompatible dtype is deprecated and will raise an error in a future version of pandas. Value 'Difference (rf500_ci - rf200_si) = ' has dtype incompatible with float64, please explicitly cast to a compatible dtype first.\n",
      "  table2.iloc[0,0] = f\"Difference ({group1_name} - {group2_name}) = \"\n"
     ]
    },
    {
     "data": {
      "text/plain": [
       "(   Variable     N      Mean        SD        SE  95% Conf.  Interval\n",
       " 0  rf500_ci  10.0  0.647000  0.115713  0.036592   0.564224  0.729776\n",
       " 1  rf200_si  10.0  0.593333  0.078055  0.024683   0.537496  0.649171\n",
       " 2  combined  20.0  0.620167  0.099931  0.022345   0.573397  0.666936,\n",
       "                     Independent t-test  results\n",
       " 0  Difference (rf500_ci - rf200_si) =    0.0537\n",
       " 1                Degrees of freedom =   18.0000\n",
       " 2                                 t =    1.2159\n",
       " 3             Two side test p value =    0.2397\n",
       " 4            Difference < 0 p value =    0.8801\n",
       " 5            Difference > 0 p value =    0.1199\n",
       " 6                         Cohen's d =    0.5438\n",
       " 7                         Hedge's g =    0.5208\n",
       " 8                    Glass's delta1 =    0.4638\n",
       " 9                  Point-Biserial r =    0.2755)"
      ]
     },
     "execution_count": 18,
     "metadata": {},
     "output_type": "execute_result"
    }
   ],
   "source": [
    "rp.ttest(group1=rf500_ci ,group1_name=\"rf500_ci\", group2=rf200_si, group2_name=\"rf200_si\")"
   ]
  },
  {
   "cell_type": "code",
   "execution_count": null,
   "id": "7e5af12d",
   "metadata": {},
   "outputs": [],
   "source": []
  }
 ],
 "metadata": {
  "kernelspec": {
   "display_name": "Python 3",
   "language": "python",
   "name": "python3"
  },
  "language_info": {
   "codemirror_mode": {
    "name": "ipython",
    "version": 3
   },
   "file_extension": ".py",
   "mimetype": "text/x-python",
   "name": "python",
   "nbconvert_exporter": "python",
   "pygments_lexer": "ipython3",
   "version": "3.11.10"
  }
 },
 "nbformat": 4,
 "nbformat_minor": 5
}
